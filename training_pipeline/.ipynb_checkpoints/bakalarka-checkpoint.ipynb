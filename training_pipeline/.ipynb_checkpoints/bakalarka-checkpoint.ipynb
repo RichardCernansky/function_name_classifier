{
 "cells": [
  {
   "cell_type": "code",
   "id": "initial_id",
   "metadata": {
    "collapsed": true,
    "ExecuteTime": {
     "end_time": "2024-10-04T07:13:21.727384Z",
     "start_time": "2024-10-04T07:13:20.046051Z"
    }
   },
   "source": [
    "import pandas as pd\n",
    "from collections import Counter\n",
    "\n",
    "exebench =\"/Users/richardcernansky/Desktop/bakalarka/from_json_names.txt\" \n",
    "gcj =\"/Users/richardcernansky/Desktop/bakalarka/names.txt\"  \n",
    "\n",
    "with open(exebench, \"r\") as file:\n",
    "    function_names = file.read().splitlines()\n",
    "\n",
    "function_counts = Counter(function_names)\n",
    "\n",
    "total_functions = sum(function_counts.values())\n",
    "\n",
    "df = pd.DataFrame(function_counts.items(), columns=[\"Function Name\", \"Frequency\"])\n",
    "df[\"Percentage\"] = (df[\"Frequency\"] / total_functions) * 100\n",
    "\n",
    "df = df.sort_values(by=\"Frequency\", ascending=False)\n",
    "\n",
    "df.to_csv('exebench.csv', index=False)\n"
   ],
   "outputs": [],
   "execution_count": 20
  },
  {
   "metadata": {},
   "cell_type": "code",
   "outputs": [],
   "execution_count": null,
   "source": "",
   "id": "972b19e95640c674"
  }
 ],
 "metadata": {
  "kernelspec": {
   "display_name": "Python 3",
   "language": "python",
   "name": "python3"
  },
  "language_info": {
   "codemirror_mode": {
    "name": "ipython",
    "version": 2
   },
   "file_extension": ".py",
   "mimetype": "text/x-python",
   "name": "python",
   "nbconvert_exporter": "python",
   "pygments_lexer": "ipython2",
   "version": "2.7.6"
  }
 },
 "nbformat": 4,
 "nbformat_minor": 5
}
