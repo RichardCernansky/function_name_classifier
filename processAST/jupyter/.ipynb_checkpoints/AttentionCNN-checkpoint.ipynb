{
 "cells": [
  {
   "cell_type": "code",
   "id": "initial_id",
   "metadata": {
    "collapsed": true,
    "ExecuteTime": {
     "end_time": "2024-10-04T11:24:50.995399Z",
     "start_time": "2024-10-04T11:24:50.985255Z"
    }
   },
   "source": [
    "\n",
    "\n",
    "\n",
    "\n",
    "\n",
    "embedding_dim = 128 #or 256\n",
    "\n",
    "value_vocab = set() #set of all leaf values\n",
    "path_vocab = set() #set of all distinct paths\n",
    "tags_vocab = set() #set of all distinct function tags\n",
    "\n",
    "\n",
    "# Define vocab sizes and embedding dimensions\n",
    "value_vocab_size = len(value_vocab)\n",
    "path_vocab_size = len(path_vocab)\n",
    "embedding_dim = 128  # As per your image\n",
    "\n",
    "# # Inputs\n",
    "# input_value1 = Input(shape=(None,), name='value1_input')\n",
    "# input_path = Input(shape=(None,), name='path_input')\n",
    "# input_value2 = Input(shape=(None,), name='value2_input')\n",
    "# \n",
    "# # Embedding Layers for the value and path vocabularies\n",
    "# value_embedding = Embedding(input_dim=value_vocab_size, output_dim=embedding_dim, name='value_embedding')\n",
    "# path_embedding = Embedding(input_dim=path_vocab_size, output_dim=embedding_dim, name='path_embedding')\n",
    "# \n",
    "# # Embed inputs\n",
    "# embedded_value1 = value_embedding(input_value1)\n",
    "# embedded_path = path_embedding(input_path)\n",
    "# embedded_value2 = value_embedding(input_value2)\n",
    "# \n",
    "# # Concatenate all embeddings\n",
    "# embedded_concat = tf.concat([embedded_value1, embedded_path, embedded_value2], axis=1)\n",
    "# \n",
    "# # Dense transformation with tanh for context vector transformation\n",
    "# transformed_vector = Dense(embedding_dim, activation='tanh')(embedded_concat)\n",
    "# \n",
    "# # Attention mechanism\n",
    "# attention_weights = Dense(1, activation='softmax')(transformed_vector)\n",
    "# weighted_context = Dot(axes=1)([attention_weights, transformed_vector])\n",
    "# \n",
    "# # Fully connected layer and softmax for output prediction\n",
    "# output = Dense(len(tags_vocab), activation='softmax')(weighted_context)\n",
    "# \n",
    "# # Define and compile the model\n",
    "# model = Model(inputs=[input_value1, input_path, input_value2], outputs=output)\n",
    "# model.compile(optimizer='adam', loss='categorical_crossentropy', metrics=['accuracy'])\n",
    "# \n",
    "# # Model summary\n",
    "# model.summary()"
   ],
   "outputs": [
    {
     "name": "stdout",
     "output_type": "stream",
     "text": [
      "3.6.0\n"
     ]
    }
   ],
   "execution_count": 18
  },
  {
   "metadata": {
    "ExecuteTime": {
     "end_time": "2024-10-04T10:53:52.993966Z",
     "start_time": "2024-10-04T10:53:52.990527Z"
    }
   },
   "cell_type": "code",
   "source": "",
   "id": "cd2c909b3c341b53",
   "outputs": [
    {
     "name": "stdout",
     "output_type": "stream",
     "text": [
      "3.6.0\n"
     ]
    }
   ],
   "execution_count": 3
  }
 ],
 "metadata": {
  "kernelspec": {
   "display_name": "Python 3",
   "language": "python",
   "name": "python3"
  },
  "language_info": {
   "codemirror_mode": {
    "name": "ipython",
    "version": 2
   },
   "file_extension": ".py",
   "mimetype": "text/x-python",
   "name": "python",
   "nbconvert_exporter": "python",
   "pygments_lexer": "ipython2",
   "version": "2.7.6"
  }
 },
 "nbformat": 4,
 "nbformat_minor": 5
}
