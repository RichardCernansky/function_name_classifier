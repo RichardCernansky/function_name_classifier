{
 "cells": [
  {
   "cell_type": "code",
   "execution_count": null,
   "id": "200b9027-a7ff-4ae0-b1cb-7c808d4558d1",
   "metadata": {},
   "outputs": [],
   "source": [
    "import pandas as pd\n",
    "from collections import Counter\n",
    "\n",
    "import json\n",
    "import pandas as pd\n",
    "from collections import Counter\n",
    "\n",
    "# Function provided to find the function tag from an AST node\n",
    "def find_tag(root) -> str:\n",
    "    # root is FunctionDefinition\n",
    "    definition_node = root\n",
    "    for definition_child in definition_node.get(\"children\", []):\n",
    "        if definition_child.get(\"kind\") == \"FunctionDeclarator\":\n",
    "            declarator_node = definition_child\n",
    "            for declarator_child in declarator_node.get(\"children\", []):\n",
    "                if declarator_child.get(\"kind\") == \"IdentifierDeclarator\":\n",
    "                    return str(declarator_child.get(\"data\"))\n",
    "    return None\n",
    "\n",
    "# Step 1: Read the .ndjson file\n",
    "ndjson_file = \"path/to/your/.ndjson\"\n",
    "\n",
    "# Store all function names\n",
    "function_names = []\n",
    "\n",
    "with open(ndjson_file, \"r\") as file:\n",
    "    for line in file:\n",
    "        try:\n",
    "            ast_node = json.loads(line.strip())\n",
    "            function_name = find_tag(ast_node)\n",
    "            if function_name:\n",
    "                function_names.append(function_name)\n",
    "        except json.JSONDecodeError:\n",
    "            print(f\"Error parsing line: {line}\")\n",
    "\n",
    "# Step 2: Perform frequency analysis\n",
    "function_counter = Counter(function_names)\n",
    "total_functions = sum(function_counter.values())\n",
    "\n",
    "# Step 3: Prepare data for the CSV\n",
    "data = []\n",
    "for function, freq in function_counter.items():\n",
    "    percentage = (freq / total_functions) * 100\n",
    "    data.append({\"FunctionName\": function, \"Frequency\": freq, \"Percentage\": round(percentage, 2)})\n",
    "\n",
    "# Step 4: Create DataFrame and save as CSV\n",
    "df = pd.DataFrame(data)\n",
    "df.to_csv(\"function_frequency_analysis.csv\", index=False)\n",
    "\n",
    "# Display the DataFrame\n",
    "df.head()\n",
    "\n",
    "\n"
   ]
  }
 ],
 "metadata": {
  "kernelspec": {
   "display_name": "Python 3 (ipykernel)",
   "language": "python",
   "name": "python3"
  },
  "language_info": {
   "codemirror_mode": {
    "name": "ipython",
    "version": 3
   },
   "file_extension": ".py",
   "mimetype": "text/x-python",
   "name": "python",
   "nbconvert_exporter": "python",
   "pygments_lexer": "ipython3",
   "version": "3.9.15"
  }
 },
 "nbformat": 4,
 "nbformat_minor": 5
}
