{
 "cells": [
  {
   "cell_type": "code",
   "execution_count": 3,
   "id": "745f6711-2940-4c88-bcd3-5e225ca32a60",
   "metadata": {},
   "outputs": [
    {
     "name": "stdout",
     "output_type": "stream",
     "text": [
      "   FunctionName  Frequency (Total: 21906)  Percentage\n",
      "24        solve                      1004        4.58\n",
      "4         check                       573        2.62\n",
      "62          min                       273        1.25\n",
      "68          max                       244        1.11\n",
      "0           cmp                       241        1.10\n"
     ]
    }
   ],
   "source": [
    "import json\n",
    "import pandas as pd\n",
    "from collections import Counter\n",
    "\n",
    "def find_tag(root) -> str:\n",
    "    # root is FunctionDefinition\n",
    "    definition_node = root\n",
    "    for definition_child in definition_node.get(\"children\", []):\n",
    "        if definition_child.get(\"kind\") == \"FunctionDeclarator\":\n",
    "            declarator_node = definition_child\n",
    "            for declarator_child in declarator_node.get(\"children\", []):\n",
    "                if declarator_child.get(\"kind\") == \"IdentifierDeclarator\":\n",
    "                    return str(declarator_child.get(\"data\"))\n",
    "    return None\n",
    "\n",
    "input_ndjson_file = \"functionsASTs.ndjson\"\n",
    "output_ndjson_file = \"functionsASTs_dropped_singles.ndjson\"\n",
    "\n",
    "function_names = []\n",
    "function_lines = []  # Store lines for future filtering\n",
    "\n",
    "with open(input_ndjson_file, \"r\") as file:\n",
    "    for line in file:\n",
    "        try:\n",
    "            ast_node = json.loads(line.strip())\n",
    "            function_name = find_tag(ast_node)\n",
    "            if function_name:\n",
    "                function_names.append(function_name)\n",
    "                function_lines.append((function_name, line))  # Keep track of original lines\n",
    "        except json.JSONDecodeError:\n",
    "            print(f\"Error parsing line: {line}\")\n",
    "\n",
    "function_counter = Counter(function_names)\n",
    "\n",
    "filtered_function_names = set()\n",
    "data = []\n",
    "\n",
    "for function, freq in function_counter.items():\n",
    "    if freq > 1: #filter\n",
    "        filtered_function_names.add(function)\n",
    "        data.append({\"FunctionName\": function, \"Frequency\": freq})\n",
    "\n",
    "total_functions = sum(item[\"Frequency\"] for item in data)\n",
    "\n",
    "for item in data:\n",
    "    item[\"Percentage\"] = round((item[\"Frequency\"] / total_functions) * 100, 2)\n",
    "\n",
    "df = pd.DataFrame(data)\n",
    "df = df.sort_values(by=\"Frequency\", ascending=False) \n",
    "\n",
    "df.columns = [f\"FunctionName\", f\"Frequency (Total: {total_functions})\", \"Percentage\"]\n",
    "\n",
    "df.to_csv(\"freq_analysis_gcj_dropped_singles.csv\", index=False)\n",
    "\n",
    "#WRITE NEW .NDJSON\n",
    "# with open(output_ndjson_file, \"w\") as outfile:\n",
    "#     for function_name, original_line in function_lines:\n",
    "#         if function_name in filtered_function_names:\n",
    "#             outfile.write(original_line)\n",
    "\n",
    "\n",
    "\n",
    "\n",
    "\n",
    "# Display the DataFrame\n",
    "print(df.head())\n"
   ]
  },
  {
   "cell_type": "code",
   "execution_count": null,
   "id": "46c73052-d555-4d1f-b923-f60eb52eb3f9",
   "metadata": {},
   "outputs": [],
   "source": []
  }
 ],
 "metadata": {
  "kernelspec": {
   "display_name": "Python 3 (ipykernel)",
   "language": "python",
   "name": "python3"
  },
  "language_info": {
   "codemirror_mode": {
    "name": "ipython",
    "version": 3
   },
   "file_extension": ".py",
   "mimetype": "text/x-python",
   "name": "python",
   "nbconvert_exporter": "python",
   "pygments_lexer": "ipython3",
   "version": "3.9.15"
  }
 },
 "nbformat": 4,
 "nbformat_minor": 5
}
