{
 "cells": [
  {
   "cell_type": "code",
   "execution_count": null,
   "id": "745f6711-2940-4c88-bcd3-5e225ca32a60",
   "metadata": {},
   "outputs": [],
   "source": [
    "#drop singles \n",
    "#drop duplicate strings of functions"
   ]
  }
 ],
 "metadata": {
  "kernelspec": {
   "display_name": "Python 3 (ipykernel)",
   "language": "python",
   "name": "python3"
  },
  "language_info": {
   "codemirror_mode": {
    "name": "ipython",
    "version": 3
   },
   "file_extension": ".py",
   "mimetype": "text/x-python",
   "name": "python",
   "nbconvert_exporter": "python",
   "pygments_lexer": "ipython3",
   "version": "3.9.15"
  }
 },
 "nbformat": 4,
 "nbformat_minor": 5
}
