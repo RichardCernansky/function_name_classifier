{
 "cells": [
  {
   "cell_type": "code",
   "execution_count": 2,
   "id": "cd2c909b3c341b53",
   "metadata": {
    "ExecuteTime": {
     "end_time": "2024-10-04T10:53:52.993966Z",
     "start_time": "2024-10-04T10:53:52.990527Z"
    }
   },
   "outputs": [],
   "source": [
    "import tensorflow as tf\n",
    "from tensorflow import keras \n",
    "from tensorflow.keras.layers import Input, Embedding, Dense, Dot, Activation, Lambda\n",
    "from tensorflow.keras.models import Model\n",
    "\n",
    "from collections import OrderedDict #for ordered sets of the data"
   ]
  },
  {
   "cell_type": "code",
   "execution_count": null,
   "id": "f1223b71-ee0b-49d1-a72a-adf5c9b7ecf2",
   "metadata": {
    "ExecuteTime": {
     "end_time": "2024-10-04T11:24:50.995399Z",
     "start_time": "2024-10-04T11:24:50.985255Z"
    }
   },
   "outputs": [],
   "source": [
    "#having functions.ndjson \n",
    "#create set of leaf_node_values\n",
    "#create set of all distinct paths\n",
    "#create set of all tags_vocab\n",
    "\n",
    "value_vocab = set() #set of all leaf values\n",
    "path_vocab = set() #set of all distinct paths\n",
    "tags_vocab = set() #set of all distinct function tags\n",
    "\n",
    "#vocab sizes and embedding dimensions\n",
    "value_vocab_size = len(value_vocab)\n",
    "path_vocab_size = len(path_vocab)\n",
    "tags_vocab_size = len(tags_vocab)\n",
    "y = tags_vocab_size\n",
    "embedding_dim = 128 \n",
    "\n",
    "\n",
    "# Dummy vocabulary sizes and dimensions\n",
    "value_vocab_size = 10000  # Example vocab size for value vocab\n",
    "path_vocab_size = 5000    # Example vocab size for path vocab\n",
    "tags_vocab_size = 1000    # Example tag vocab size\n",
    "embedding_dim = 128       # Embedding dimension\n",
    "num_context = 20          # Number of contexts for a single function\n",
    "\n",
    "# inputs for value1, path, and value2 (with num_context inputs per batch)\n",
    "input_value1 = Input(shape=(num_context,), name='value1_input')\n",
    "input_path = Input(shape=(num_context,), name='path_input')\n",
    "input_value2 = Input(shape=(num_context,), name='value2_input')\n",
    "\n",
    "# Embedding layers\n",
    "value_embedding = Embedding(input_dim=value_vocab_size, output_dim=embedding_dim, name='value_embedding')\n",
    "path_embedding = Embedding(input_dim=path_vocab_size, output_dim=embedding_dim, name='path_embedding')\n",
    "tag_embedding = Embedding(input_dim=tags_vocab_size, output_dim=embedding_dim, name='tag_embedding')\n",
    "\n",
    "# Embed the inputs\n",
    "embedded_value1 = value_embedding(input_value1)  # Shape: (None, num_context, embedding_dim)\n",
    "embedded_path = path_embedding(input_path)      # Shape: (None, num_context, embedding_dim)\n",
    "embedded_value2 = value_embedding(input_value2)  # Shape: (None, num_context, embedding_dim)\n",
    "\n",
    "# Concatenate along the last axis (for each context, value1, path, and value2 are concatenated)\n",
    "embedded_concat = Concatenate(axis=-1)([embedded_value1, embedded_path, embedded_value2])\n",
    "# Shape: (None, num_context, 3 * embedding_dim)\n",
    "\n",
    "# Apply a dense transformation to each concatenated context (row-wise transformation)\n",
    "transformed_contexts = Dense(units=y, activation='tanh')(embedded_concat)\n",
    "# Shape: (None, num_context, y)\n",
    "\n",
    "# Attention mechanism\n",
    "attention_weights = Dense(1, activation='softmax')(transformed_contexts)\n",
    "# Shape: (None, num_context, 1) - attention scores for each context\n",
    "\n",
    "# apply attention weights to get the weighted sum of contexts\n",
    "weighted_context = tf.reduce_sum(attention_weights * transformed_contexts, axis=1)\n",
    "# shape: (None, embedding_dim) - weighted sum across contexts\n",
    "\n",
    "# get the tag embeddings\n",
    "tags_embedding_matrix = tag_embedding(tf.range(tags_vocab_size))  # Shape: (tags_vocab_size, embedding_dim)\n",
    "\n",
    "# compute the dot product between the weighted context and all tag embeddings\n",
    "tag_scores = tf.matmul(weighted_context, tags_embedding_matrix, transpose_b=True)  # Shape: (None, tags_vocab_size)\n",
    "\n",
    "# apply softmax to get probabilities over all tags\n",
    "output = Softmax()(tag_scores)\n",
    "# Shape: (None, tags_vocab_size) - probabilities for each tag\n",
    "\n",
    "# Define the model\n",
    "model = Model(inputs=[input_value1, input_path, input_value2], outputs=output)\n",
    "model.compile(optimizer='adam', loss='categorical_crossentropy', metrics=['accuracy'])\n",
    "\n",
    "# Summary of the model\n",
    "model.summary()\n",
    "\n"
   ]
  },
  {
   "cell_type": "code",
   "execution_count": null,
   "id": "41fa5b84-1041-41db-a23d-3647f362f068",
   "metadata": {},
   "outputs": [],
   "source": []
  }
 ],
 "metadata": {
  "kernelspec": {
   "display_name": "Python 3 (ipykernel)",
   "language": "python",
   "name": "python3"
  },
  "language_info": {
   "codemirror_mode": {
    "name": "ipython",
    "version": 3
   },
   "file_extension": ".py",
   "mimetype": "text/x-python",
   "name": "python",
   "nbconvert_exporter": "python",
   "pygments_lexer": "ipython3",
   "version": "3.9.15"
  }
 },
 "nbformat": 4,
 "nbformat_minor": 5
}
