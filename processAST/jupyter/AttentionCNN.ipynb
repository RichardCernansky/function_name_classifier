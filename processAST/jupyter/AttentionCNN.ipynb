{
 "cells": [
  {
   "cell_type": "code",
   "execution_count": 11,
   "id": "cd2c909b3c341b53",
   "metadata": {
    "ExecuteTime": {
     "end_time": "2024-10-04T10:53:52.993966Z",
     "start_time": "2024-10-04T10:53:52.990527Z"
    }
   },
   "outputs": [],
   "source": [
    "import tensorflow as tf\n",
    "from tensorflow import keras \n",
    "from tensorflow.keras.layers import Input, Embedding, Dense, Dot, Activation, Lambda\n",
    "from tensorflow.keras.models import Model"
   ]
  },
  {
   "cell_type": "code",
   "execution_count": 12,
   "id": "initial_id",
   "metadata": {
    "ExecuteTime": {
     "end_time": "2024-10-04T11:24:50.995399Z",
     "start_time": "2024-10-04T11:24:50.985255Z"
    }
   },
   "outputs": [
    {
     "name": "stdout",
     "output_type": "stream",
     "text": [
      "Model: \"model\"\n",
      "__________________________________________________________________________________________________\n",
      "Layer (type)                    Output Shape         Param #     Connected to                     \n",
      "==================================================================================================\n",
      "value1_input (InputLayer)       [(None, None)]       0                                            \n",
      "__________________________________________________________________________________________________\n",
      "path_input (InputLayer)         [(None, None)]       0                                            \n",
      "__________________________________________________________________________________________________\n",
      "value2_input (InputLayer)       [(None, None)]       0                                            \n",
      "__________________________________________________________________________________________________\n",
      "value_embedding (Embedding)     (None, None, 128)    256         value1_input[0][0]               \n",
      "                                                                 value2_input[0][0]               \n",
      "__________________________________________________________________________________________________\n",
      "path_embedding (Embedding)      (None, None, 128)    256         path_input[0][0]                 \n",
      "__________________________________________________________________________________________________\n",
      "tf.concat (TFOpLambda)          (None, None, 128)    0           value_embedding[0][0]            \n",
      "                                                                 path_embedding[0][0]             \n",
      "                                                                 value_embedding[1][0]            \n",
      "__________________________________________________________________________________________________\n",
      "dense (Dense)                   (None, None, 128)    16512       tf.concat[0][0]                  \n",
      "__________________________________________________________________________________________________\n",
      "dense_1 (Dense)                 (None, None, 1)      129         dense[0][0]                      \n",
      "__________________________________________________________________________________________________\n",
      "dot (Dot)                       (None, 1, 128)       0           dense_1[0][0]                    \n",
      "                                                                 dense[0][0]                      \n",
      "__________________________________________________________________________________________________\n",
      "dense_2 (Dense)                 (None, 1, 2)         258         dot[0][0]                        \n",
      "==================================================================================================\n",
      "Total params: 17,411\n",
      "Trainable params: 17,411\n",
      "Non-trainable params: 0\n",
      "__________________________________________________________________________________________________\n"
     ]
    }
   ],
   "source": [
    "\n",
    "\n",
    "value_vocab = set() #set of all leaf values\n",
    "path_vocab = set() #set of all distinct paths\n",
    "tags_vocab = set() #set of all distinct function tags\n",
    "\n",
    "#vocab sizes and embedding dimensions\n",
    "value_vocab_size = len(value_vocab)\n",
    "path_vocab_size = len(path_vocab)\n",
    "tags_vocab_size = len(tags_vocab)\n",
    "embedding_dim = 128  # As per your image\n",
    "\n",
    "\n",
    "# Inputs\n",
    "input_value1 = Input(shape=(None,), name='value1_input')\n",
    "input_path = Input(shape=(None,), name='path_input')\n",
    "input_value2 = Input(shape=(None,), name='value2_input')\n",
    "\n",
    "# Embedding Layers for the value and path vocabularies\n",
    "value_embedding = Embedding(input_dim=value_vocab_size, output_dim=embedding_dim, name='value_embedding')\n",
    "path_embedding = Embedding(input_dim=path_vocab_size, output_dim=embedding_dim, name='path_embedding')\n",
    "\n",
    "# Embed inputs\n",
    "embedded_value1 = value_embedding(input_value1)\n",
    "embedded_path = path_embedding(input_path)\n",
    "embedded_value2 = value_embedding(input_value2)\n",
    "\n",
    "# Concatenate all embeddings\n",
    "embedded_concat = tf.concat([embedded_value1, embedded_path, embedded_value2], axis=1)\n",
    "\n",
    "# Dense transformation with tanh for context vector transformation\n",
    "transformed_vector = Dense(embedding_dim, activation='tanh')(embedded_concat)\n",
    "\n",
    "# Attention mechanism\n",
    "attention_weights = Dense(1, activation='softmax')(transformed_vector)\n",
    "weighted_context = Dot(axes=1)([attention_weights, transformed_vector])\n",
    "\n",
    "# Fully connected layer and softmax for output prediction\n",
    "output = Dense(len(tags_vocab), activation='softmax')(weighted_context)\n",
    "\n",
    "# Define and compile the model\n",
    "model = Model(inputs=[input_value1, input_path, input_value2], outputs=output)\n",
    "model.compile(optimizer='adam', loss='categorical_crossentropy', metrics=['accuracy'])\n",
    "\n",
    "# Model summary\n",
    "model.summary()"
   ]
  },
  {
   "cell_type": "code",
   "execution_count": null,
   "id": "41fa5b84-1041-41db-a23d-3647f362f068",
   "metadata": {},
   "outputs": [],
   "source": []
  }
 ],
 "metadata": {
  "kernelspec": {
   "display_name": "Python 3 (ipykernel)",
   "language": "python",
   "name": "python3"
  },
  "language_info": {
   "codemirror_mode": {
    "name": "ipython",
    "version": 3
   },
   "file_extension": ".py",
   "mimetype": "text/x-python",
   "name": "python",
   "nbconvert_exporter": "python",
   "pygments_lexer": "ipython3",
   "version": "3.9.15"
  }
 },
 "nbformat": 4,
 "nbformat_minor": 5
}
