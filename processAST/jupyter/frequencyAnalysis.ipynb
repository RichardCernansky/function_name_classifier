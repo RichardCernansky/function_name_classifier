{
 "cells": [
  {
   "cell_type": "code",
   "execution_count": 7,
   "id": "initial_id",
   "metadata": {
    "ExecuteTime": {
     "end_time": "2024-10-04T07:13:21.727384Z",
     "start_time": "2024-10-04T07:13:20.046051Z"
    }
   },
   "outputs": [],
   "source": [
    "import pandas as pd\n",
    "from collections import Counter\n",
    "\n",
    "#TODO: open it right from the .ndjson\n",
    "exebench =\"/Users/richardcernansky/Desktop/bakalarka/exebench_names.txt\" \n",
    "gcj =\"/Users/richardcernansky/Desktop/bakalarka/gcj_names.txt\"  \n",
    "\n",
    "with open(gcj, \"r\") as file:\n",
    "    function_names = file.read().splitlines()\n",
    "\n",
    "function_counts = Counter(function_names)\n",
    "\n",
    "total_functions = sum(function_counts.values())\n",
    "\n",
    "df = pd.DataFrame(function_counts.items(), columns=[\"Function Name\", \"Frequency\"])\n",
    "df[\"Percentage\"] = (df[\"Frequency\"] / total_functions) * 100\n",
    "\n",
    "df = df.sort_values(by=\"Frequency\", ascending=False)\n",
    "\n",
    "df.to_csv('gcj.csv', index=False)\n",
    "\n",
    "\n"
   ]
  },
  {
   "cell_type": "code",
   "execution_count": null,
   "id": "972b19e95640c674",
   "metadata": {},
   "outputs": [],
   "source": []
  }
 ],
 "metadata": {
  "kernelspec": {
   "display_name": "Python 3 (ipykernel)",
   "language": "python",
   "name": "python3"
  },
  "language_info": {
   "codemirror_mode": {
    "name": "ipython",
    "version": 3
   },
   "file_extension": ".py",
   "mimetype": "text/x-python",
   "name": "python",
   "nbconvert_exporter": "python",
   "pygments_lexer": "ipython3",
   "version": "3.9.15"
  }
 },
 "nbformat": 4,
 "nbformat_minor": 5
}
